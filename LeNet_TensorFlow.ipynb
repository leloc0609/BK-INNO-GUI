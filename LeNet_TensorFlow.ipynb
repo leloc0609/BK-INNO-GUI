{
  "nbformat": 4,
  "nbformat_minor": 0,
  "metadata": {
    "colab": {
      "name": "LeNet_TensorFlow.ipynb",
      "provenance": [],
      "include_colab_link": true
    },
    "kernelspec": {
      "name": "python3",
      "display_name": "Python 3"
    },
    "accelerator": "GPU"
  },
  "cells": [
    {
      "cell_type": "markdown",
      "metadata": {
        "id": "view-in-github",
        "colab_type": "text"
      },
      "source": [
        "<a href=\"https://colab.research.google.com/github/leloc0609/BK-INNO-GUI/blob/master/LeNet_TensorFlow.ipynb\" target=\"_parent\"><img src=\"https://colab.research.google.com/assets/colab-badge.svg\" alt=\"Open In Colab\"/></a>"
      ]
    },
    {
      "cell_type": "code",
      "metadata": {
        "id": "MMcWUHT5-eVD"
      },
      "source": [
        "import tensorflow as tf\n",
        "import matplotlib.pyplot as plt\n",
        "from tensorflow.keras import *"
      ],
      "execution_count": 1,
      "outputs": []
    },
    {
      "cell_type": "code",
      "metadata": {
        "id": "fEvJTxr2C55-",
        "colab": {
          "base_uri": "https://localhost:8080/"
        },
        "outputId": "dff6a953-07c0-42ff-ac26-97a52e38b0a1"
      },
      "source": [
        "(x_train, y_train), (x_test, y_test)=tf.keras.datasets.mnist.load_data()"
      ],
      "execution_count": 2,
      "outputs": [
        {
          "output_type": "stream",
          "name": "stdout",
          "text": [
            "Downloading data from https://storage.googleapis.com/tensorflow/tf-keras-datasets/mnist.npz\n",
            "11490434/11490434 [==============================] - 2s 0us/step\n"
          ]
        }
      ]
    },
    {
      "cell_type": "code",
      "metadata": {
        "colab": {
          "base_uri": "https://localhost:8080/"
        },
        "id": "v5CqAuLuDC94",
        "outputId": "ba2caa66-9813-46a4-8b55-c8d90b0dc020"
      },
      "source": [
        "x_train.shape"
      ],
      "execution_count": 3,
      "outputs": [
        {
          "output_type": "execute_result",
          "data": {
            "text/plain": [
              "(60000, 28, 28)"
            ]
          },
          "metadata": {},
          "execution_count": 3
        }
      ]
    },
    {
      "cell_type": "code",
      "metadata": {
        "colab": {
          "base_uri": "https://localhost:8080/"
        },
        "id": "XizrWVlmY1NQ",
        "outputId": "56c86a73-5310-455b-eb9a-7b5bb98ae7b9"
      },
      "source": [
        "x_train = tf.pad(x_train, [[0, 0], [2,2], [2,2]])/255\n",
        "x_test = tf.pad(x_test, [[0, 0], [2,2], [2,2]])/255\n",
        "x_train.shape"
      ],
      "execution_count": 4,
      "outputs": [
        {
          "output_type": "execute_result",
          "data": {
            "text/plain": [
              "TensorShape([60000, 32, 32])"
            ]
          },
          "metadata": {},
          "execution_count": 4
        }
      ]
    },
    {
      "cell_type": "code",
      "metadata": {
        "colab": {
          "base_uri": "https://localhost:8080/"
        },
        "id": "hy_dVa44ZOLk",
        "outputId": "32322de1-58a6-4ae8-f8e7-6a4a29e08776"
      },
      "source": [
        "x_train = tf.expand_dims(x_train, axis=3, name=None)\n",
        "x_test = tf.expand_dims(x_test, axis=3, name=None)\n",
        "x_train.shape"
      ],
      "execution_count": 5,
      "outputs": [
        {
          "output_type": "execute_result",
          "data": {
            "text/plain": [
              "TensorShape([60000, 32, 32, 1])"
            ]
          },
          "metadata": {},
          "execution_count": 5
        }
      ]
    },
    {
      "cell_type": "code",
      "metadata": {
        "id": "gJuMl9GAnoM5"
      },
      "source": [
        "x_val = x_train[-2000:,:,:,:]\n",
        "y_val = y_train[-2000:]\n",
        "x_train = x_train[:-2000,:,:,:]\n",
        "y_train = y_train[:-2000]"
      ],
      "execution_count": 6,
      "outputs": []
    },
    {
      "cell_type": "code",
      "source": [
        "print(x_train.shape)"
      ],
      "metadata": {
        "colab": {
          "base_uri": "https://localhost:8080/"
        },
        "id": "isVcLiv78kmR",
        "outputId": "7b14239d-61cb-4564-c4f9-57b24e450067"
      },
      "execution_count": 7,
      "outputs": [
        {
          "output_type": "stream",
          "name": "stdout",
          "text": [
            "(58000, 32, 32, 1)\n"
          ]
        }
      ]
    },
    {
      "cell_type": "code",
      "metadata": {
        "id": "UeaLkOM-XRZA",
        "colab": {
          "base_uri": "https://localhost:8080/"
        },
        "outputId": "2b3ddb0e-5cef-44a3-9f4c-d334474d05d8"
      },
      "source": [
        "model = models.Sequential()\n",
        "model.add(layers.Conv2D(6, (5,5), padding='same', activation='relu', input_shape=(32, 32, 1)))\n",
        "model.add(layers.MaxPool2D(strides=2))\n",
        "model.add(layers.Conv2D(16, kernel_size=(5,5), padding='valid', activation='relu'))\n",
        "model.add(layers.MaxPool2D(strides=2))\n",
        "model.add(layers.Flatten())\n",
        "model.add(layers.Dense(120, activation='relu'))\n",
        "model.add(layers.Dense(84, activation='relu'))\n",
        "model.add(layers.Dense(10, activation='softmax'))\n",
        "model.summary()"
      ],
      "execution_count": 29,
      "outputs": [
        {
          "output_type": "stream",
          "name": "stdout",
          "text": [
            "Model: \"sequential_9\"\n",
            "_________________________________________________________________\n",
            " Layer (type)                Output Shape              Param #   \n",
            "=================================================================\n",
            " conv2d_18 (Conv2D)          (None, 32, 32, 6)         156       \n",
            "                                                                 \n",
            " max_pooling2d_18 (MaxPoolin  (None, 16, 16, 6)        0         \n",
            " g2D)                                                            \n",
            "                                                                 \n",
            " conv2d_19 (Conv2D)          (None, 12, 12, 16)        2416      \n",
            "                                                                 \n",
            " max_pooling2d_19 (MaxPoolin  (None, 6, 6, 16)         0         \n",
            " g2D)                                                            \n",
            "                                                                 \n",
            " flatten_9 (Flatten)         (None, 576)               0         \n",
            "                                                                 \n",
            " dense_27 (Dense)            (None, 120)               69240     \n",
            "                                                                 \n",
            " dense_28 (Dense)            (None, 84)                10164     \n",
            "                                                                 \n",
            " dense_29 (Dense)            (None, 10)                850       \n",
            "                                                                 \n",
            "=================================================================\n",
            "Total params: 82,826\n",
            "Trainable params: 82,826\n",
            "Non-trainable params: 0\n",
            "_________________________________________________________________\n"
          ]
        }
      ]
    },
    {
      "cell_type": "code",
      "metadata": {
        "id": "pOAJW5ByhYCl"
      },
      "source": [
        "model.compile(optimizer='adam', loss=losses.sparse_categorical_crossentropy, metrics=['accuracy'])"
      ],
      "execution_count": 20,
      "outputs": []
    },
    {
      "cell_type": "code",
      "metadata": {
        "colab": {
          "base_uri": "https://localhost:8080/"
        },
        "id": "Xv-ml2R6hw_V",
        "outputId": "f2e019b2-2988-4d45-faef-71a3455999b6"
      },
      "source": [
        "model.fit(x_train, y_train, batch_size=64, epochs=10, validation_data=(x_val, y_val))"
      ],
      "execution_count": 21,
      "outputs": [
        {
          "output_type": "stream",
          "name": "stdout",
          "text": [
            "Epoch 1/10\n",
            "907/907 [==============================] - 14s 4ms/step - loss: 0.2172 - accuracy: 0.9346 - val_loss: 0.0765 - val_accuracy: 0.9810\n",
            "Epoch 2/10\n",
            "907/907 [==============================] - 4s 5ms/step - loss: 0.0687 - accuracy: 0.9787 - val_loss: 0.0578 - val_accuracy: 0.9845\n",
            "Epoch 3/10\n",
            "907/907 [==============================] - 4s 4ms/step - loss: 0.0492 - accuracy: 0.9846 - val_loss: 0.0514 - val_accuracy: 0.9870\n",
            "Epoch 4/10\n",
            "907/907 [==============================] - 4s 4ms/step - loss: 0.0378 - accuracy: 0.9875 - val_loss: 0.0507 - val_accuracy: 0.9900\n",
            "Epoch 5/10\n",
            "907/907 [==============================] - 4s 5ms/step - loss: 0.0295 - accuracy: 0.9903 - val_loss: 0.0459 - val_accuracy: 0.9890\n",
            "Epoch 6/10\n",
            "907/907 [==============================] - 4s 4ms/step - loss: 0.0247 - accuracy: 0.9920 - val_loss: 0.0448 - val_accuracy: 0.9895\n",
            "Epoch 7/10\n",
            "907/907 [==============================] - 4s 4ms/step - loss: 0.0212 - accuracy: 0.9932 - val_loss: 0.0447 - val_accuracy: 0.9915\n",
            "Epoch 8/10\n",
            "907/907 [==============================] - 4s 5ms/step - loss: 0.0184 - accuracy: 0.9940 - val_loss: 0.0401 - val_accuracy: 0.9930\n",
            "Epoch 9/10\n",
            "907/907 [==============================] - 4s 4ms/step - loss: 0.0146 - accuracy: 0.9953 - val_loss: 0.0421 - val_accuracy: 0.9930\n",
            "Epoch 10/10\n",
            "907/907 [==============================] - 4s 4ms/step - loss: 0.0132 - accuracy: 0.9954 - val_loss: 0.0462 - val_accuracy: 0.9915\n"
          ]
        },
        {
          "output_type": "execute_result",
          "data": {
            "text/plain": [
              "<keras.callbacks.History at 0x7f157d3048b0>"
            ]
          },
          "metadata": {},
          "execution_count": 21
        }
      ]
    },
    {
      "cell_type": "code",
      "metadata": {
        "colab": {
          "base_uri": "https://localhost:8080/",
          "height": 1000
        },
        "id": "AfX0d7zyocFw",
        "outputId": "2d2a4f11-49f7-424a-e835-b9a16c4341e0"
      },
      "source": [
        "fig, axs = plt.subplots(2, 1, figsize=(15,15))\n",
        "\n",
        "axs[0].plot(history.history['loss'])\n",
        "axs[0].plot(history.history['val_loss'])\n",
        "axs[0].title.set_text('Training Loss vs Validation Loss')\n",
        "axs[0].legend(['Train', 'Val'])\n",
        "\n",
        "axs[1].plot(history.history['accuracy'])\n",
        "axs[1].plot(history.history['val_accuracy'])\n",
        "axs[1].title.set_text('Training Accuracy vs Validation Accuracy')\n",
        "axs[1].legend(['Train', 'Val'])\n"
      ],
      "execution_count": 24,
      "outputs": [
        {
          "output_type": "error",
          "ename": "TypeError",
          "evalue": "ignored",
          "traceback": [
            "\u001b[0;31m---------------------------------------------------------------------------\u001b[0m",
            "\u001b[0;31mTypeError\u001b[0m                                 Traceback (most recent call last)",
            "\u001b[0;32m<ipython-input-24-634605846748>\u001b[0m in \u001b[0;36m<module>\u001b[0;34m\u001b[0m\n\u001b[1;32m      1\u001b[0m \u001b[0mfig\u001b[0m\u001b[0;34m,\u001b[0m \u001b[0maxs\u001b[0m \u001b[0;34m=\u001b[0m \u001b[0mplt\u001b[0m\u001b[0;34m.\u001b[0m\u001b[0msubplots\u001b[0m\u001b[0;34m(\u001b[0m\u001b[0;36m2\u001b[0m\u001b[0;34m,\u001b[0m \u001b[0;36m1\u001b[0m\u001b[0;34m,\u001b[0m \u001b[0mfigsize\u001b[0m\u001b[0;34m=\u001b[0m\u001b[0;34m(\u001b[0m\u001b[0;36m15\u001b[0m\u001b[0;34m,\u001b[0m\u001b[0;36m15\u001b[0m\u001b[0;34m)\u001b[0m\u001b[0;34m)\u001b[0m\u001b[0;34m\u001b[0m\u001b[0;34m\u001b[0m\u001b[0m\n\u001b[1;32m      2\u001b[0m \u001b[0;34m\u001b[0m\u001b[0m\n\u001b[0;32m----> 3\u001b[0;31m \u001b[0maxs\u001b[0m\u001b[0;34m[\u001b[0m\u001b[0;36m0\u001b[0m\u001b[0;34m]\u001b[0m\u001b[0;34m.\u001b[0m\u001b[0mplot\u001b[0m\u001b[0;34m(\u001b[0m\u001b[0mhistory\u001b[0m\u001b[0;34m.\u001b[0m\u001b[0mhistory\u001b[0m\u001b[0;34m[\u001b[0m\u001b[0;34m'loss'\u001b[0m\u001b[0;34m]\u001b[0m\u001b[0;34m)\u001b[0m\u001b[0;34m\u001b[0m\u001b[0;34m\u001b[0m\u001b[0m\n\u001b[0m\u001b[1;32m      4\u001b[0m \u001b[0maxs\u001b[0m\u001b[0;34m[\u001b[0m\u001b[0;36m0\u001b[0m\u001b[0;34m]\u001b[0m\u001b[0;34m.\u001b[0m\u001b[0mplot\u001b[0m\u001b[0;34m(\u001b[0m\u001b[0mhistory\u001b[0m\u001b[0;34m.\u001b[0m\u001b[0mhistory\u001b[0m\u001b[0;34m[\u001b[0m\u001b[0;34m'val_loss'\u001b[0m\u001b[0;34m]\u001b[0m\u001b[0;34m)\u001b[0m\u001b[0;34m\u001b[0m\u001b[0;34m\u001b[0m\u001b[0m\n\u001b[1;32m      5\u001b[0m \u001b[0maxs\u001b[0m\u001b[0;34m[\u001b[0m\u001b[0;36m0\u001b[0m\u001b[0;34m]\u001b[0m\u001b[0;34m.\u001b[0m\u001b[0mtitle\u001b[0m\u001b[0;34m.\u001b[0m\u001b[0mset_text\u001b[0m\u001b[0;34m(\u001b[0m\u001b[0;34m'Training Loss vs Validation Loss'\u001b[0m\u001b[0;34m)\u001b[0m\u001b[0;34m\u001b[0m\u001b[0;34m\u001b[0m\u001b[0m\n",
            "\u001b[0;31mTypeError\u001b[0m: 'History' object is not subscriptable"
          ]
        },
        {
          "output_type": "display_data",
          "data": {
            "text/plain": [
              "<Figure size 1080x1080 with 2 Axes>"
            ],
            "image/png": "[encoded data removed]"
          },
          "metadata": {
            "needs_background": "light"
          }
        }
      ]
    },
    {
      "cell_type": "code",
      "metadata": {
        "colab": {
          "base_uri": "https://localhost:8080/"
        },
        "id": "iLQqDljamZTV",
        "outputId": "749091da-72a9-424f-c0ff-e2bcfedb54e0"
      },
      "source": [
        "model.evaluate(x_test, y_test)"
      ],
      "execution_count": 13,
      "outputs": [
        {
          "output_type": "stream",
          "name": "stdout",
          "text": [
            "313/313 [==============================] - 1s 3ms/step - loss: 0.1289 - accuracy: 0.9599\n"
          ]
        },
        {
          "output_type": "execute_result",
          "data": {
            "text/plain": [
              "[0.1289190649986267, 0.9599000215530396]"
            ]
          },
          "metadata": {},
          "execution_count": 13
        }
      ]
    },
    {
      "cell_type": "code",
      "source": [
        "model.save_weights(\".\")"
      ],
      "metadata": {
        "id": "jo8b1By_-ymy"
      },
      "execution_count": null,
      "outputs": []
    },
    {
      "cell_type": "code",
      "source": [],
      "metadata": {
        "id": "4hX_6emCATKP"
      },
      "execution_count": null,
      "outputs": []
    },
    {
      "metadata": {
        "id": "_BNZOO8QguVz"
      },
      "cell_type": "code",
      "source": [
        "from keras.models import model_from_json"
      ],
      "execution_count": null,
      "outputs": []
    },
    {
      "metadata": {
        "id": "PVF3O3HzgsWw"
      },
      "cell_type": "code",
      "source": [
        "model_json = model.to_json()\n",
        "\n",
        "with open(\"model.json\", \"w\") as json_file:\n",
        "    json_file.write(model_json)"
      ],
      "execution_count": null,
      "outputs": []
    },
    {
      "metadata": {
        "id": "zjna3ZZnhMWb",
        "colab": {
          "base_uri": "https://localhost:8080/"
        },
        "outputId": "258fe786-8bde-4091-f83c-4de31ffaa133"
      },
      "cell_type": "code",
      "source": [
        "# Specify the name of the file for which you want to save the weights to\n",
        "# in this case, model.h5\n",
        "model.get_weights()"
      ],
      "execution_count": 44,
      "outputs": [
        {
          "output_type": "execute_result",
          "data": {
            "text/plain": [
              "[array([[[[-0.07393751, -0.1003239 , -0.10044707, -0.02775648,\n",
              "            0.08857577, -0.0075167 ]],\n",
              " \n",
              "         [[ 0.09176524, -0.15814638, -0.08382069, -0.00443849,\n",
              "           -0.0958851 ,  0.17811276]],\n",
              " \n",
              "         [[-0.04193091, -0.04094522,  0.10679568,  0.09883957,\n",
              "           -0.0413183 , -0.05223468]],\n",
              " \n",
              "         [[ 0.00444852, -0.12267441,  0.12557454,  0.13173766,\n",
              "            0.01341221,  0.04144323]],\n",
              " \n",
              "         [[ 0.07429744,  0.03002843,  0.11414485, -0.10617619,\n",
              "           -0.08956058, -0.13993302]]],\n",
              " \n",
              " \n",
              "        [[[ 0.04220538,  0.1137109 ,  0.08445613, -0.14499839,\n",
              "           -0.08394182, -0.14690636]],\n",
              " \n",
              "         [[-0.18288562,  0.04005474,  0.09920447, -0.10603262,\n",
              "            0.17498545, -0.09387828]],\n",
              " \n",
              "         [[-0.02982637,  0.0632997 ,  0.17465974,  0.16480567,\n",
              "           -0.09158257,  0.134697  ]],\n",
              " \n",
              "         [[-0.02902225,  0.12111323,  0.1179186 ,  0.03151533,\n",
              "           -0.11960645, -0.10715827]],\n",
              " \n",
              "         [[ 0.03261538, -0.10911366, -0.15579152, -0.17369308,\n",
              "            0.00077446, -0.09869176]]],\n",
              " \n",
              " \n",
              "        [[[-0.1712893 , -0.0157544 ,  0.10728855, -0.0726755 ,\n",
              "            0.08337025,  0.00834057]],\n",
              " \n",
              "         [[-0.0050776 ,  0.1324011 ,  0.17993854, -0.05782777,\n",
              "            0.12473871,  0.11474936]],\n",
              " \n",
              "         [[-0.02708404,  0.03249578, -0.08734844,  0.12505136,\n",
              "           -0.09471442,  0.07889538]],\n",
              " \n",
              "         [[ 0.02406539,  0.14950086, -0.09349209, -0.17898624,\n",
              "           -0.00993942, -0.07612188]],\n",
              " \n",
              "         [[ 0.09157743,  0.08662973, -0.11889057, -0.06519433,\n",
              "            0.08542956, -0.07461423]]],\n",
              " \n",
              " \n",
              "        [[[ 0.04687029, -0.14140534, -0.18441467, -0.05941065,\n",
              "            0.10513212,  0.06318028]],\n",
              " \n",
              "         [[ 0.05341056, -0.04000343, -0.10390286,  0.09215154,\n",
              "            0.03664945, -0.09411486]],\n",
              " \n",
              "         [[-0.04072307,  0.18284155, -0.17512752,  0.18187572,\n",
              "           -0.15849245, -0.10125544]],\n",
              " \n",
              "         [[ 0.01314251, -0.1388298 , -0.16981396,  0.17364044,\n",
              "            0.07626577,  0.06460746]],\n",
              " \n",
              "         [[ 0.16428496,  0.08948676, -0.17090636, -0.01262718,\n",
              "           -0.14169335,  0.09382628]]],\n",
              " \n",
              " \n",
              "        [[[ 0.02933891,  0.11065833,  0.07623325,  0.01935588,\n",
              "            0.03279933, -0.04385889]],\n",
              " \n",
              "         [[ 0.18449466, -0.00759396,  0.01852296,  0.14205806,\n",
              "            0.04473335, -0.17825249]],\n",
              " \n",
              "         [[ 0.04612051,  0.16609563, -0.11326052,  0.01407494,\n",
              "            0.13524447, -0.01243529]],\n",
              " \n",
              "         [[ 0.16867216,  0.17117791, -0.11735674,  0.01838978,\n",
              "           -0.11037868,  0.10132863]],\n",
              " \n",
              "         [[ 0.11946632, -0.16814655,  0.10908861, -0.04455137,\n",
              "           -0.01092239,  0.14506577]]]], dtype=float32),\n",
              " array([0., 0., 0., 0., 0., 0.], dtype=float32),\n",
              " array([[[[-0.04142013,  0.02013706, -0.01895825, ..., -0.03469248,\n",
              "           -0.05037554,  0.06317866],\n",
              "          [-0.07791126,  0.01961046,  0.06808734, ..., -0.10316045,\n",
              "            0.07119912, -0.00350419],\n",
              "          [ 0.01596665,  0.04450278, -0.00363681, ..., -0.09876853,\n",
              "           -0.02660518,  0.0088113 ],\n",
              "          [ 0.03857939,  0.03209978,  0.06348895, ..., -0.02753659,\n",
              "            0.03973202,  0.01697055],\n",
              "          [-0.10068063, -0.02268334,  0.01501006, ...,  0.07943273,\n",
              "            0.01528433, -0.01122393],\n",
              "          [-0.01033376, -0.04137269, -0.05463647, ...,  0.05811727,\n",
              "            0.07074533,  0.01153062]],\n",
              " \n",
              "         [[-0.03910054,  0.00788616,  0.08300793, ...,  0.01991924,\n",
              "           -0.02029504, -0.01577102],\n",
              "          [ 0.08421834,  0.07953373, -0.03386325, ...,  0.06745234,\n",
              "            0.03323394, -0.00105224],\n",
              "          [ 0.01830818, -0.00199112, -0.07385567, ...,  0.01071506,\n",
              "            0.03366642,  0.05910115],\n",
              "          [ 0.06729342,  0.01513074,  0.04629096, ..., -0.02064276,\n",
              "            0.08434923,  0.05664726],\n",
              "          [ 0.09471676, -0.07388423,  0.06912738, ..., -0.05938997,\n",
              "           -0.07401141, -0.01130471],\n",
              "          [-0.08326729,  0.0244986 , -0.04365322, ...,  0.08265691,\n",
              "            0.07171054, -0.04357144]],\n",
              " \n",
              "         [[-0.10304037, -0.0120391 , -0.03457432, ..., -0.10400724,\n",
              "            0.04095508, -0.01742271],\n",
              "          [-0.02207608, -0.05564867, -0.07817335, ..., -0.08008149,\n",
              "           -0.0012964 , -0.06073146],\n",
              "          [ 0.03655127,  0.06963351,  0.06575796, ...,  0.0281442 ,\n",
              "            0.10336484,  0.04227833],\n",
              "          [ 0.07867339,  0.06741542, -0.08314556, ...,  0.02489777,\n",
              "            0.03664978,  0.04587059],\n",
              "          [ 0.00238464, -0.03469144, -0.10223502, ...,  0.0809893 ,\n",
              "           -0.01109743, -0.04024727],\n",
              "          [-0.09941263, -0.01124268, -0.05039795, ...,  0.0782955 ,\n",
              "            0.09452628,  0.07432821]],\n",
              " \n",
              "         [[-0.03407695, -0.08151971,  0.01240274, ...,  0.06049661,\n",
              "           -0.01925801,  0.02608064],\n",
              "          [-0.05916428,  0.08544935,  0.05937088, ..., -0.04654068,\n",
              "           -0.04772505, -0.03337048],\n",
              "          [-0.01121353, -0.03403962,  0.04861359, ...,  0.02325147,\n",
              "           -0.08716571,  0.04927748],\n",
              "          [-0.07198229,  0.07004614,  0.02184594, ...,  0.01394826,\n",
              "           -0.00163962,  0.04438969],\n",
              "          [-0.02986167,  0.09856665,  0.09673317, ...,  0.05472817,\n",
              "            0.05611975,  0.00718159],\n",
              "          [ 0.08639403, -0.0747948 ,  0.03425498, ..., -0.0354545 ,\n",
              "           -0.00427498, -0.06743227]],\n",
              " \n",
              "         [[ 0.07218128,  0.0317459 , -0.01007134, ..., -0.00278883,\n",
              "           -0.00029696,  0.08058451],\n",
              "          [-0.00688085, -0.08251728, -0.0121284 , ...,  0.02552575,\n",
              "            0.01044452, -0.03240871],\n",
              "          [-0.05230161, -0.08640332, -0.0418602 , ...,  0.07511334,\n",
              "            0.07374787, -0.0374824 ],\n",
              "          [-0.01317926, -0.07543039,  0.01483122, ..., -0.08118244,\n",
              "           -0.0071336 , -0.10441773],\n",
              "          [ 0.05509795,  0.02598152, -0.01640818, ...,  0.01162588,\n",
              "           -0.05526662,  0.03117779],\n",
              "          [ 0.02434874,  0.01442334,  0.07355948, ..., -0.0422361 ,\n",
              "            0.06898373, -0.04139197]]],\n",
              " \n",
              " \n",
              "        [[[ 0.07846622, -0.02228577, -0.01025358, ..., -0.04140594,\n",
              "            0.02468742,  0.05714302],\n",
              "          [-0.00826146, -0.09926523, -0.07197806, ...,  0.05006716,\n",
              "           -0.05279935, -0.10340359],\n",
              "          [-0.08738321, -0.02568799,  0.04788119, ...,  0.02092767,\n",
              "            0.01281291,  0.04717402],\n",
              "          [ 0.02722676, -0.00835313,  0.06918067, ...,  0.02605158,\n",
              "           -0.04648256,  0.0235827 ],\n",
              "          [ 0.05152592,  0.00336416, -0.08485214, ..., -0.04766391,\n",
              "           -0.07314163, -0.03960714],\n",
              "          [-0.04345761, -0.05749542, -0.0060214 , ...,  0.07428659,\n",
              "            0.05930677, -0.09448043]],\n",
              " \n",
              "         [[ 0.09740166, -0.0245422 , -0.01765005, ..., -0.02419915,\n",
              "           -0.08237535,  0.01195384],\n",
              "          [ 0.06834532, -0.06124238,  0.01850538, ..., -0.03517321,\n",
              "            0.06342398,  0.08182329],\n",
              "          [ 0.06757118, -0.08431486,  0.02230161, ...,  0.08017702,\n",
              "            0.06969334, -0.09661314],\n",
              "          [ 0.05331685,  0.06389549,  0.01515932, ..., -0.05012657,\n",
              "           -0.02227505, -0.00964141],\n",
              "          [-0.03721303,  0.02616319,  0.05798618, ..., -0.06625882,\n",
              "            0.00901293,  0.02137496],\n",
              "          [ 0.08833237,  0.07181674, -0.06086499, ...,  0.03225793,\n",
              "            0.09231694,  0.07207644]],\n",
              " \n",
              "         [[-0.02601264, -0.01521627, -0.0962679 , ...,  0.02003762,\n",
              "            0.0646493 ,  0.10281473],\n",
              "          [ 0.0726243 , -0.06886658,  0.09359021, ...,  0.0967562 ,\n",
              "            0.00739734,  0.09732415],\n",
              "          [-0.04153896, -0.1015007 ,  0.06433359, ...,  0.07530011,\n",
              "           -0.03437994,  0.02368127],\n",
              "          [ 0.04491366, -0.04444779, -0.00451172, ..., -0.06922145,\n",
              "            0.09276558,  0.073213  ],\n",
              "          [-0.05616902, -0.05689441, -0.07148951, ..., -0.02307814,\n",
              "            0.08300121,  0.02092955],\n",
              "          [ 0.00134122,  0.07261081,  0.04964358, ...,  0.00138286,\n",
              "           -0.09148542,  0.08820102]],\n",
              " \n",
              "         [[-0.0007874 , -0.06299493, -0.01964226, ..., -0.06406006,\n",
              "            0.10344683,  0.04276592],\n",
              "          [ 0.06913874, -0.03501061,  0.00826174, ...,  0.00188743,\n",
              "           -0.05727459, -0.08935956],\n",
              "          [ 0.1004793 ,  0.03418475,  0.01211189, ...,  0.00139708,\n",
              "            0.10440575, -0.03753492],\n",
              "          [ 0.00631699, -0.0650446 , -0.07781514, ..., -0.03055265,\n",
              "            0.01497034,  0.0330933 ],\n",
              "          [ 0.10103683,  0.04640512, -0.02354049, ...,  0.05204174,\n",
              "            0.03034726,  0.04947031],\n",
              "          [-0.02887751,  0.01260672, -0.00198045, ...,  0.08064553,\n",
              "           -0.05195306,  0.06543007]],\n",
              " \n",
              "         [[-0.06919795,  0.07758653,  0.00151969, ..., -0.09378935,\n",
              "           -0.04593696, -0.00290728],\n",
              "          [ 0.06271917, -0.06962258, -0.05039596, ...,  0.01954818,\n",
              "           -0.03420632, -0.01412569],\n",
              "          [ 0.02356251,  0.02099466, -0.05259747, ..., -0.07229847,\n",
              "           -0.03044298, -0.06397251],\n",
              "          [-0.05426675, -0.00845685, -0.02219167, ..., -0.04678353,\n",
              "           -0.05734083,  0.04776357],\n",
              "          [-0.05696489, -0.0486127 ,  0.03598759, ...,  0.03544328,\n",
              "            0.04605223, -0.02437571],\n",
              "          [-0.09690791, -0.0326483 , -0.09923988, ..., -0.02269604,\n",
              "           -0.02413934,  0.01522825]]],\n",
              " \n",
              " \n",
              "        [[[-0.01574706, -0.10399155, -0.09261348, ...,  0.069401  ,\n",
              "           -0.00540876, -0.09329356],\n",
              "          [ 0.03589024, -0.00166878,  0.04691246, ...,  0.00347664,\n",
              "            0.08120079,  0.03685592],\n",
              "          [ 0.03082995, -0.04240956,  0.0024075 , ...,  0.04946056,\n",
              "            0.01309719,  0.07322124],\n",
              "          [-0.06633489, -0.01949424,  0.07016481, ..., -0.00896908,\n",
              "            0.00963742, -0.09725972],\n",
              "          [ 0.02763063, -0.00805433,  0.0276086 , ..., -0.01226897,\n",
              "            0.02049388,  0.00993428],\n",
              "          [ 0.02743207,  0.10240784, -0.06553653, ..., -0.0341921 ,\n",
              "           -0.03084017, -0.09880066]],\n",
              " \n",
              "         [[ 0.03197482, -0.03731954,  0.01048721, ...,  0.04302041,\n",
              "            0.04376048, -0.04990908],\n",
              "          [ 0.01671719, -0.09460858,  0.06931962, ...,  0.04535134,\n",
              "           -0.05102827, -0.06364512],\n",
              "          [ 0.0593901 , -0.08043373, -0.09031214, ...,  0.08550045,\n",
              "           -0.01260529,  0.09446821],\n",
              "          [ 0.09948382, -0.1039935 , -0.06263916, ...,  0.08462803,\n",
              "           -0.0148148 ,  0.10005046],\n",
              "          [-0.07978877, -0.01846004,  0.09621578, ..., -0.02030537,\n",
              "            0.0601203 ,  0.09034346],\n",
              "          [-0.00774819,  0.07663931, -0.0468657 , ...,  0.06043138,\n",
              "           -0.00077754, -0.0343317 ]],\n",
              " \n",
              "         [[-0.05742393,  0.09796286, -0.06801035, ..., -0.09934913,\n",
              "           -0.00233969,  0.02433673],\n",
              "          [ 0.06885594, -0.06244664, -0.01881655, ...,  0.05507553,\n",
              "            0.06099567, -0.0262906 ],\n",
              "          [-0.00128482,  0.02509597,  0.01445634, ..., -0.10132405,\n",
              "           -0.07088795,  0.01211819],\n",
              "          [ 0.04815613,  0.08627203, -0.07137603, ...,  0.08017507,\n",
              "           -0.09080002,  0.06343426],\n",
              "          [-0.00399961,  0.02014732,  0.03533924, ..., -0.04748711,\n",
              "           -0.05425331, -0.01301344],\n",
              "          [-0.06980053,  0.03778537,  0.00691382, ...,  0.02154948,\n",
              "           -0.00052272,  0.09397121]],\n",
              " \n",
              "         [[-0.04362774, -0.01186153, -0.05720078, ...,  0.00777804,\n",
              "           -0.07404163,  0.00695827],\n",
              "          [-0.04999631,  0.08422519, -0.0034169 , ...,  0.02397329,\n",
              "            0.04605068,  0.01101775],\n",
              "          [-0.06555369,  0.04691999, -0.05410974, ..., -0.00948244,\n",
              "            0.03800102, -0.01489596],\n",
              "          [ 0.02088009, -0.04534927, -0.01555255, ...,  0.09338629,\n",
              "            0.08197175, -0.01546183],\n",
              "          [ 0.00401206,  0.06528011, -0.05705862, ...,  0.02455169,\n",
              "            0.03601709,  0.08841921],\n",
              "          [ 0.00791451,  0.10109842,  0.08313806, ...,  0.09091076,\n",
              "            0.03110811,  0.0754488 ]],\n",
              " \n",
              "         [[-0.02501596, -0.05977127,  0.03717647, ...,  0.09132886,\n",
              "            0.10102881,  0.00079656],\n",
              "          [ 0.10289086, -0.08256726, -0.04890169, ...,  0.03301969,\n",
              "           -0.04482727, -0.00661617],\n",
              "          [ 0.03810985,  0.09758432, -0.09593412, ...,  0.00855082,\n",
              "            0.08666942, -0.04588773],\n",
              "          [-0.04165685,  0.02527703,  0.08761337, ..., -0.02342029,\n",
              "           -0.00023639,  0.02289949],\n",
              "          [-0.03117811,  0.07859835, -0.07972343, ...,  0.08409438,\n",
              "            0.03624098, -0.09325881],\n",
              "          [-0.02396674,  0.05970782,  0.10356233, ...,  0.05809434,\n",
              "           -0.08550821,  0.04565215]]],\n",
              " \n",
              " \n",
              "        [[[-0.03164373,  0.04248133,  0.07446149, ..., -0.04218497,\n",
              "           -0.04515556, -0.08162163],\n",
              "          [-0.06240045,  0.07626425, -0.02481323, ..., -0.05668362,\n",
              "            0.08889404, -0.04660831],\n",
              "          [-0.02854298, -0.03460602, -0.09840979, ...,  0.03001733,\n",
              "           -0.10255035, -0.03492691],\n",
              "          [-0.08789928, -0.04378605,  0.09135112, ...,  0.00057098,\n",
              "           -0.00704914, -0.01101182],\n",
              "          [ 0.0565307 ,  0.04787147, -0.0754681 , ...,  0.04676326,\n",
              "           -0.00227498, -0.09074889],\n",
              "          [ 0.0195222 , -0.02169918, -0.01987564, ...,  0.08619793,\n",
              "            0.06434178,  0.07053255]],\n",
              " \n",
              "         [[ 0.04041424,  0.00223739,  0.00588273, ...,  0.02925418,\n",
              "           -0.0369565 ,  0.04531789],\n",
              "          [ 0.04653625,  0.07345112, -0.05192968, ..., -0.07949667,\n",
              "            0.01531257,  0.05904199],\n",
              "          [-0.04503667, -0.08961914,  0.07741001, ...,  0.09463863,\n",
              "           -0.0138616 , -0.01611262],\n",
              "          [-0.04859617,  0.09058496, -0.08429644, ...,  0.02034298,\n",
              "           -0.01289563, -0.02224713],\n",
              "          [-0.07935329, -0.06410282,  0.0050839 , ...,  0.07698525,\n",
              "           -0.01524949,  0.10089955],\n",
              "          [ 0.09243289, -0.05850443,  0.01678928, ...,  0.10092263,\n",
              "            0.08551228, -0.08411759]],\n",
              " \n",
              "         [[-0.00354784,  0.0324043 ,  0.01394191, ..., -0.09550495,\n",
              "           -0.01672088, -0.05541635],\n",
              "          [-0.10016925,  0.08524129,  0.00390656, ...,  0.06508449,\n",
              "           -0.07350843,  0.08986081],\n",
              "          [-0.053443  ,  0.07403272,  0.00570127, ...,  0.1033603 ,\n",
              "            0.00820225,  0.00571797],\n",
              "          [-0.04657818,  0.08440188, -0.00460829, ...,  0.04103103,\n",
              "           -0.08847763,  0.04975185],\n",
              "          [-0.1009048 , -0.06003027,  0.03180788, ..., -0.10407612,\n",
              "           -0.10268089,  0.0262758 ],\n",
              "          [-0.0052082 , -0.05167169, -0.03354086, ..., -0.06559037,\n",
              "            0.09663613, -0.05099423]],\n",
              " \n",
              "         [[-0.05264987, -0.02336503, -0.04311011, ...,  0.07217951,\n",
              "            0.03296141, -0.09838843],\n",
              "          [ 0.08301181,  0.03298336, -0.09856874, ..., -0.05480894,\n",
              "            0.01676846, -0.03237537],\n",
              "          [-0.01361661, -0.09924023, -0.10025571, ..., -0.05814624,\n",
              "            0.06024894,  0.0444717 ],\n",
              "          [ 0.05207536, -0.05810142,  0.07177711, ...,  0.01748786,\n",
              "           -0.10276388,  0.04664876],\n",
              "          [ 0.03553773,  0.04096627, -0.06599256, ..., -0.04184471,\n",
              "            0.01860855, -0.06846267],\n",
              "          [ 0.02535157, -0.09698971, -0.09509222, ...,  0.0488224 ,\n",
              "           -0.06108291,  0.06604333]],\n",
              " \n",
              "         [[-0.03006496,  0.08199653,  0.09661023, ...,  0.03342178,\n",
              "           -0.07137744, -0.09469005],\n",
              "          [ 0.07464427,  0.0898876 ,  0.01704004, ...,  0.00468379,\n",
              "            0.05439553,  0.08322029],\n",
              "          [ 0.06636196, -0.0163795 ,  0.01405297, ..., -0.02343988,\n",
              "           -0.06328268,  0.00905126],\n",
              "          [-0.00886539, -0.06424387, -0.02852029, ..., -0.05920303,\n",
              "            0.10337067, -0.0633572 ],\n",
              "          [ 0.04732697,  0.01511677, -0.08919565, ...,  0.09346363,\n",
              "           -0.0946655 , -0.03402157],\n",
              "          [ 0.02577069,  0.04072738, -0.02984979, ...,  0.09167002,\n",
              "            0.00440384, -0.02744005]]],\n",
              " \n",
              " \n",
              "        [[[ 0.08550714, -0.02100549, -0.10185997, ..., -0.04214757,\n",
              "           -0.03405862,  0.05333273],\n",
              "          [-0.03442057,  0.01297303, -0.07282597, ..., -0.07588513,\n",
              "           -0.04140394,  0.0495241 ],\n",
              "          [-0.04716966, -0.02551875,  0.0711055 , ..., -0.03683866,\n",
              "           -0.00736151,  0.00213169],\n",
              "          [ 0.0386015 ,  0.04352362, -0.08369318, ...,  0.06943528,\n",
              "            0.08973454,  0.07257681],\n",
              "          [-0.06429957, -0.05068868,  0.06709696, ...,  0.04748449,\n",
              "            0.05879767, -0.06500515],\n",
              "          [-0.01301645, -0.03927696,  0.09354688, ...,  0.03091507,\n",
              "           -0.02444   , -0.00793803]],\n",
              " \n",
              "         [[ 0.05412005,  0.03094949, -0.05494683, ...,  0.07673195,\n",
              "            0.03602313,  0.09288244],\n",
              "          [ 0.0814199 , -0.07148173,  0.03893232, ...,  0.07481763,\n",
              "            0.01060646, -0.06716383],\n",
              "          [ 0.03006019,  0.08718538, -0.02367526, ...,  0.08402383,\n",
              "           -0.03099939, -0.0238933 ],\n",
              "          [-0.03742276, -0.00164924,  0.07933588, ..., -0.0248784 ,\n",
              "           -0.06235034,  0.08821629],\n",
              "          [ 0.07178313,  0.09418789, -0.06056054, ...,  0.09865274,\n",
              "            0.05130315, -0.06207194],\n",
              "          [-0.0539747 ,  0.03428997, -0.05492942, ..., -0.01025636,\n",
              "           -0.04772278,  0.07116593]],\n",
              " \n",
              "         [[ 0.05921282,  0.00230376, -0.08319644, ..., -0.1018458 ,\n",
              "           -0.00492656,  0.10183993],\n",
              "          [ 0.05943364, -0.02754617, -0.06391005, ..., -0.042585  ,\n",
              "            0.07523701, -0.04497619],\n",
              "          [-0.0336382 ,  0.06967475,  0.03376506, ...,  0.04414622,\n",
              "            0.09794557,  0.01014999],\n",
              "          [ 0.0545907 , -0.01832633, -0.06901574, ..., -0.05755325,\n",
              "           -0.10421059,  0.1037181 ],\n",
              "          [ 0.08804907, -0.08303224,  0.02259192, ...,  0.07944253,\n",
              "           -0.00408325, -0.05272191],\n",
              "          [ 0.0801222 ,  0.08857813, -0.02557115, ...,  0.04933198,\n",
              "            0.10082456, -0.06418263]],\n",
              " \n",
              "         [[ 0.06656407,  0.04535091, -0.05171836, ...,  0.01607748,\n",
              "           -0.00635375, -0.02065744],\n",
              "          [-0.06577347,  0.07847218, -0.05955746, ..., -0.0166563 ,\n",
              "           -0.01980895,  0.01411389],\n",
              "          [ 0.02216421, -0.00369242,  0.05112235, ..., -0.02065215,\n",
              "            0.00286849,  0.02225806],\n",
              "          [ 0.00787735,  0.02440357,  0.00581579, ..., -0.08222879,\n",
              "            0.0621153 ,  0.03583252],\n",
              "          [ 0.05780727, -0.00913943,  0.0749857 , ...,  0.01506308,\n",
              "            0.0935802 , -0.08487117],\n",
              "          [-0.04026042, -0.10260344,  0.02938098, ...,  0.01524202,\n",
              "           -0.05096022,  0.00690712]],\n",
              " \n",
              "         [[ 0.07416189,  0.07541737, -0.00704007, ..., -0.0791088 ,\n",
              "           -0.00594541,  0.03066131],\n",
              "          [-0.01576614,  0.02986963, -0.06417459, ..., -0.01344053,\n",
              "           -0.04115801,  0.02707133],\n",
              "          [-0.02559154,  0.02251919, -0.05564411, ..., -0.00437605,\n",
              "           -0.04825581,  0.07504177],\n",
              "          [ 0.04988164, -0.09254761,  0.05932699, ..., -0.02767672,\n",
              "            0.05350913,  0.0680037 ],\n",
              "          [ 0.08076483, -0.06195306,  0.03773113, ...,  0.07427569,\n",
              "           -0.09994008, -0.01123332],\n",
              "          [ 0.10270883, -0.05251306,  0.07840571, ..., -0.08234616,\n",
              "            0.06176752,  0.07237066]]]], dtype=float32),\n",
              " array([0., 0., 0., 0., 0., 0., 0., 0., 0., 0., 0., 0., 0., 0., 0., 0.],\n",
              "       dtype=float32),\n",
              " array([[-0.00622209, -0.01053964, -0.07340595, ..., -0.04450123,\n",
              "         -0.0595228 , -0.01341294],\n",
              "        [-0.0551969 , -0.04598323, -0.0295663 , ...,  0.05779392,\n",
              "          0.04635449, -0.08548755],\n",
              "        [ 0.08817951, -0.0636727 , -0.0682036 , ...,  0.03091787,\n",
              "          0.08218705, -0.02071145],\n",
              "        ...,\n",
              "        [-0.06522718, -0.06196559,  0.00673006, ...,  0.05762436,\n",
              "          0.09011304,  0.01431081],\n",
              "        [-0.02785441, -0.03127117,  0.08315081, ...,  0.01278757,\n",
              "          0.02649748, -0.00828472],\n",
              "        [-0.01692571,  0.06039169,  0.06287981, ..., -0.0677185 ,\n",
              "          0.06037601, -0.05119731]], dtype=float32),\n",
              " array([0., 0., 0., 0., 0., 0., 0., 0., 0., 0., 0., 0., 0., 0., 0., 0., 0.,\n",
              "        0., 0., 0., 0., 0., 0., 0., 0., 0., 0., 0., 0., 0., 0., 0., 0., 0.,\n",
              "        0., 0., 0., 0., 0., 0., 0., 0., 0., 0., 0., 0., 0., 0., 0., 0., 0.,\n",
              "        0., 0., 0., 0., 0., 0., 0., 0., 0., 0., 0., 0., 0., 0., 0., 0., 0.,\n",
              "        0., 0., 0., 0., 0., 0., 0., 0., 0., 0., 0., 0., 0., 0., 0., 0., 0.,\n",
              "        0., 0., 0., 0., 0., 0., 0., 0., 0., 0., 0., 0., 0., 0., 0., 0., 0.,\n",
              "        0., 0., 0., 0., 0., 0., 0., 0., 0., 0., 0., 0., 0., 0., 0., 0., 0.,\n",
              "        0.], dtype=float32),\n",
              " array([[-0.06741095, -0.1580859 ,  0.11565478, ..., -0.08706357,\n",
              "          0.07933928, -0.09134737],\n",
              "        [ 0.10179342,  0.00065802, -0.04223032, ...,  0.08865087,\n",
              "         -0.0748277 ,  0.0599405 ],\n",
              "        [ 0.16125737,  0.1477253 , -0.0750117 , ...,  0.09282495,\n",
              "         -0.04483524,  0.11357315],\n",
              "        ...,\n",
              "        [ 0.00521226, -0.00652997, -0.02574426, ...,  0.17149167,\n",
              "          0.03326124, -0.14319184],\n",
              "        [-0.10559548,  0.1393808 , -0.11718826, ..., -0.06426486,\n",
              "          0.0004672 , -0.11955063],\n",
              "        [ 0.02262264,  0.13537939,  0.05091839, ..., -0.02502401,\n",
              "         -0.00353844, -0.0177751 ]], dtype=float32),\n",
              " array([0., 0., 0., 0., 0., 0., 0., 0., 0., 0., 0., 0., 0., 0., 0., 0., 0.,\n",
              "        0., 0., 0., 0., 0., 0., 0., 0., 0., 0., 0., 0., 0., 0., 0., 0., 0.,\n",
              "        0., 0., 0., 0., 0., 0., 0., 0., 0., 0., 0., 0., 0., 0., 0., 0., 0.,\n",
              "        0., 0., 0., 0., 0., 0., 0., 0., 0., 0., 0., 0., 0., 0., 0., 0., 0.,\n",
              "        0., 0., 0., 0., 0., 0., 0., 0., 0., 0., 0., 0., 0., 0., 0., 0.],\n",
              "       dtype=float32),\n",
              " array([[ 7.65639544e-02, -2.36069590e-01,  9.50682759e-02,\n",
              "         -2.11029306e-01, -2.04762816e-03,  5.51464260e-02,\n",
              "         -9.37849581e-02,  2.43207484e-01,  1.88560665e-01,\n",
              "          1.97307259e-01],\n",
              "        [ 1.65010661e-01,  2.05167145e-01,  1.88826948e-01,\n",
              "         -1.14369377e-01,  1.06623590e-01,  3.05801630e-03,\n",
              "         -7.57340938e-02, -9.12733823e-02, -1.43155515e-01,\n",
              "         -1.61114693e-01],\n",
              "        [ 1.70093626e-01, -1.02737799e-01,  5.43153584e-02,\n",
              "          4.95965183e-02,  1.34748638e-01,  9.58711505e-02,\n",
              "          1.00049734e-01, -1.12706766e-01,  4.52133417e-02,\n",
              "          1.51135564e-01],\n",
              "        [ 1.71637267e-01, -2.18216777e-01,  1.33678079e-01,\n",
              "         -7.61725456e-02,  1.78891599e-01,  1.83616906e-01,\n",
              "         -1.82127148e-01, -6.83746487e-02, -4.05573994e-02,\n",
              "         -1.05422676e-01],\n",
              "        [ 5.80294132e-02, -1.84318930e-01,  1.98238611e-01,\n",
              "         -9.95632708e-02, -2.11479500e-01,  1.79021955e-02,\n",
              "         -1.00871161e-01,  1.96474493e-01,  1.70131385e-01,\n",
              "          9.21199322e-02],\n",
              "        [ 1.52772576e-01,  1.09520733e-01, -1.86396152e-01,\n",
              "         -2.28533596e-01,  1.79469317e-01,  1.99432075e-01,\n",
              "          9.31632519e-02,  1.21081710e-01, -2.51233727e-01,\n",
              "         -6.52358979e-02],\n",
              "        [-2.17694595e-01,  1.45789236e-01, -3.50436866e-02,\n",
              "          2.22327352e-01, -1.61172092e-01, -1.38789654e-01,\n",
              "          6.36667609e-02, -2.14038044e-02,  2.12500364e-01,\n",
              "         -1.85518831e-01],\n",
              "        [-1.31332695e-01,  1.32347822e-01, -8.42696279e-02,\n",
              "         -9.58504230e-02,  1.81481302e-01,  1.72853261e-01,\n",
              "         -2.15359569e-01, -1.66222721e-01, -2.46111423e-01,\n",
              "         -1.77175507e-01],\n",
              "        [-2.42198348e-01, -5.99139184e-02,  6.56445324e-02,\n",
              "          1.32477522e-01,  2.47489065e-01, -2.96781659e-02,\n",
              "          8.13248456e-02,  2.44995922e-01,  5.86516857e-02,\n",
              "          1.26278639e-01],\n",
              "        [-3.62617671e-02, -1.59142643e-01, -1.72729343e-01,\n",
              "          9.25610363e-02,  1.64011598e-01, -2.32296854e-01,\n",
              "          1.15873694e-01, -5.04936427e-02,  1.33804381e-01,\n",
              "         -1.77059740e-01],\n",
              "        [-1.72373414e-01, -2.46859968e-01, -4.95250672e-02,\n",
              "         -1.15918815e-01, -8.34497660e-02,  2.36562550e-01,\n",
              "          2.18047321e-01, -6.50024414e-03, -9.55073237e-02,\n",
              "         -3.75879109e-02],\n",
              "        [ 1.80674404e-01,  1.29158854e-01,  7.04001784e-02,\n",
              "          2.54945755e-02,  3.81102264e-02,  1.84153616e-02,\n",
              "          2.38789499e-01, -8.02171677e-02,  3.28495502e-02,\n",
              "         -1.11724138e-01],\n",
              "        [ 1.87504321e-01,  1.52703911e-01,  1.23967826e-01,\n",
              "         -2.02673674e-03, -9.33691412e-02,  2.19699591e-01,\n",
              "          2.15233326e-01, -1.38800263e-01,  1.34788394e-01,\n",
              "         -4.92288321e-02],\n",
              "        [-7.26005286e-02, -1.74806386e-01,  1.63388282e-01,\n",
              "          1.10155731e-01,  2.48052329e-01, -8.81746262e-02,\n",
              "         -5.26288748e-02, -1.52851671e-01, -5.00144809e-02,\n",
              "         -2.09855735e-01],\n",
              "        [-3.93268466e-02, -1.96762010e-01, -2.51602083e-02,\n",
              "          7.47377872e-02,  2.38731205e-01, -4.93636876e-02,\n",
              "          8.17275047e-03, -2.39549562e-01,  2.85785794e-02,\n",
              "          1.93870664e-02],\n",
              "        [-8.93908441e-02,  5.41575849e-02,  2.45770723e-01,\n",
              "         -9.72872823e-02,  1.89865887e-01,  5.52972555e-02,\n",
              "          2.33089745e-01,  1.63994074e-01,  1.80409253e-02,\n",
              "          2.35912919e-01],\n",
              "        [-9.49436426e-02, -1.88921049e-01, -4.73811626e-02,\n",
              "         -6.73541427e-02,  2.10663617e-01, -2.73203850e-03,\n",
              "          2.08205223e-01, -1.50712520e-01, -1.42148018e-01,\n",
              "          4.01005149e-02],\n",
              "        [-9.47136581e-02, -1.69390440e-01,  3.27449143e-02,\n",
              "          1.01337731e-02, -1.95503563e-01, -1.79477945e-01,\n",
              "         -9.70273614e-02,  1.78788841e-01, -1.05895162e-01,\n",
              "          1.46652669e-01],\n",
              "        [ 1.57655746e-01, -1.08717665e-01, -5.35113811e-02,\n",
              "         -1.94868624e-01,  2.08739161e-01, -6.48311824e-02,\n",
              "         -9.39675272e-02,  1.04448110e-01,  1.71554267e-01,\n",
              "          1.23862773e-01],\n",
              "        [-4.31830585e-02, -1.74304381e-01, -1.20427191e-01,\n",
              "          1.32076412e-01, -6.29662275e-02,  2.50462502e-01,\n",
              "         -2.22769544e-01,  7.47426152e-02,  2.11055994e-01,\n",
              "         -4.61083353e-02],\n",
              "        [ 2.30125904e-01,  1.13310546e-01, -1.12684593e-01,\n",
              "         -8.35651159e-02, -2.49172345e-01, -1.58782512e-01,\n",
              "          2.41245657e-01,  1.42706871e-01, -1.28611386e-01,\n",
              "         -1.53655261e-01],\n",
              "        [-2.47015625e-01, -1.15307838e-01, -2.14928582e-01,\n",
              "         -9.94659364e-02,  2.35056877e-03, -1.59528702e-02,\n",
              "         -1.25557035e-02,  1.98015511e-01,  5.80669343e-02,\n",
              "         -5.85940480e-02],\n",
              "        [ 1.50751859e-01,  4.95845079e-03, -1.65097043e-01,\n",
              "          1.67828649e-01,  7.32309520e-02, -2.44241953e-02,\n",
              "          2.00397462e-01,  4.65230644e-02,  7.19929934e-02,\n",
              "          8.23405385e-02],\n",
              "        [ 2.25103199e-02,  7.33541846e-02,  2.45993376e-01,\n",
              "         -1.96866095e-02, -4.17569280e-03, -4.71171588e-02,\n",
              "          2.34245837e-01, -2.58205682e-02, -2.24296391e-01,\n",
              "         -5.63496202e-02],\n",
              "        [-2.05799639e-02,  2.00374335e-01,  1.63414001e-01,\n",
              "          1.14168316e-01,  2.06350654e-01, -1.16407380e-01,\n",
              "         -2.15526477e-01, -1.95651755e-01,  2.01949418e-01,\n",
              "          2.07184285e-01],\n",
              "        [ 1.13449931e-01, -2.75410116e-02, -1.96555644e-01,\n",
              "         -1.98628947e-01,  2.42935985e-01,  1.69937909e-02,\n",
              "          1.82785958e-01, -2.01566264e-01,  1.22865587e-01,\n",
              "          3.72426510e-02],\n",
              "        [ 2.09688216e-01, -1.75178528e-01, -5.86194098e-02,\n",
              "          1.43867731e-01, -1.75708592e-01, -3.83938700e-02,\n",
              "         -3.00290883e-02,  1.38885051e-01, -1.64202899e-01,\n",
              "         -1.70951635e-02],\n",
              "        [ 2.19297022e-01, -7.86324292e-02, -2.09128574e-01,\n",
              "          8.23013783e-02, -1.94713712e-01,  6.98300004e-02,\n",
              "         -1.85134530e-01,  2.49031931e-01,  7.81254470e-02,\n",
              "          2.19124168e-01],\n",
              "        [-1.38775378e-01,  2.37055928e-01,  1.59905761e-01,\n",
              "          2.49088138e-01, -2.22165629e-01,  1.81841284e-01,\n",
              "          2.44843483e-01, -1.28841773e-01,  1.33275330e-01,\n",
              "          2.13266462e-01],\n",
              "        [-1.38413489e-01,  1.60964161e-01, -6.13720417e-02,\n",
              "         -2.14121372e-01, -1.41312733e-01,  3.28096747e-03,\n",
              "          2.07029253e-01, -2.10064277e-01, -1.31616741e-02,\n",
              "          1.57325864e-02],\n",
              "        [ 8.14808607e-02, -2.28685871e-01, -1.05994493e-01,\n",
              "          1.91954911e-01,  4.42126095e-02,  1.02587938e-01,\n",
              "          7.59207010e-02, -1.92707449e-01,  3.93435359e-02,\n",
              "         -6.81945980e-02],\n",
              "        [ 1.63875401e-01,  1.13063365e-01,  1.25241578e-02,\n",
              "         -2.11701468e-01, -2.39343017e-01,  1.75362825e-03,\n",
              "          1.66261703e-01,  7.89440274e-02,  2.25952506e-01,\n",
              "          2.22771049e-01],\n",
              "        [-1.87130272e-02, -4.58523929e-02,  1.44221187e-01,\n",
              "         -5.89470267e-02,  7.48390555e-02,  2.18518376e-02,\n",
              "          2.42946595e-01,  1.43765509e-01, -2.29594409e-02,\n",
              "          1.76047683e-02],\n",
              "        [-7.65655190e-02,  1.95709348e-01,  2.11085558e-01,\n",
              "          9.15780365e-02, -1.51267529e-01,  1.43787265e-01,\n",
              "         -3.41135412e-02, -2.16031015e-01, -1.63728550e-01,\n",
              "          3.35372090e-02],\n",
              "        [-7.92780370e-02, -8.26656818e-02,  2.40299255e-01,\n",
              "          2.46153831e-01, -2.16231227e-01, -1.21970668e-01,\n",
              "          1.45755023e-01,  1.90872014e-01, -5.18194884e-02,\n",
              "         -2.42019087e-01],\n",
              "        [ 9.65996981e-02,  2.19962388e-01,  7.16703832e-02,\n",
              "         -2.57733464e-02,  1.07056856e-01,  1.49498731e-01,\n",
              "         -1.72638938e-01, -1.50018796e-01,  8.78456235e-02,\n",
              "         -1.38015211e-01],\n",
              "        [-1.55962944e-01, -2.01193586e-01,  1.42824531e-01,\n",
              "         -4.03409153e-02,  7.76621699e-03,  9.32808518e-02,\n",
              "          2.46849418e-01,  6.90835118e-02, -2.03371093e-01,\n",
              "         -8.15691501e-02],\n",
              "        [-5.46953082e-02, -9.83320624e-02,  9.32501853e-02,\n",
              "          1.34148866e-01,  4.14872169e-03, -1.36821702e-01,\n",
              "         -2.33691037e-02, -6.24579638e-02,  1.63372159e-02,\n",
              "          1.39426351e-01],\n",
              "        [ 1.27113611e-01,  3.98004949e-02, -1.80233240e-01,\n",
              "          2.02437997e-01,  1.61856085e-01, -7.14119524e-02,\n",
              "         -6.30022585e-02,  4.67368364e-02, -4.33923155e-02,\n",
              "         -1.63017184e-01],\n",
              "        [ 2.28925854e-01, -2.06360638e-01, -1.64860800e-01,\n",
              "         -2.40611508e-01,  1.54548615e-01,  4.25909460e-02,\n",
              "          5.85318208e-02, -9.07085538e-02,  2.32032895e-01,\n",
              "          9.56934690e-03],\n",
              "        [ 1.99144393e-01,  1.62792563e-01, -2.10744023e-01,\n",
              "          1.98992759e-01,  1.78689688e-01,  1.96715623e-01,\n",
              "          4.62277830e-02, -1.64906457e-01, -5.91748357e-02,\n",
              "         -5.79185635e-02],\n",
              "        [-1.56339288e-01,  1.56742930e-01, -1.47150308e-02,\n",
              "         -2.88159549e-02,  4.70225215e-02, -1.51361987e-01,\n",
              "          2.26686418e-01,  1.73490107e-01,  6.82823062e-02,\n",
              "         -1.43636137e-01],\n",
              "        [-2.39453763e-02,  8.10647905e-02, -1.28158823e-01,\n",
              "         -3.78554165e-02,  1.99731857e-01,  4.26072180e-02,\n",
              "         -1.14571303e-02, -2.22777501e-01, -3.12063992e-02,\n",
              "          1.16062045e-01],\n",
              "        [-1.56348810e-01,  1.10569298e-02, -2.50481009e-01,\n",
              "         -2.31352493e-01,  7.62671828e-02, -1.80725306e-01,\n",
              "          1.06748462e-01, -1.34942651e-01, -2.23527491e-01,\n",
              "         -1.73527166e-01],\n",
              "        [-1.54372782e-01, -2.28822425e-01, -9.60197449e-02,\n",
              "          1.01752698e-01, -9.91618633e-02,  2.48980433e-01,\n",
              "         -2.88042724e-02, -6.78539723e-02, -2.26803750e-01,\n",
              "          6.58241510e-02],\n",
              "        [ 1.90529317e-01, -7.79772550e-02,  2.50232071e-01,\n",
              "         -6.73216730e-02, -2.01172799e-01, -7.66029209e-02,\n",
              "         -3.48156393e-02, -5.46988696e-02, -1.30320728e-01,\n",
              "          2.48621792e-01],\n",
              "        [ 6.79200888e-03,  5.18158078e-02, -6.48709983e-02,\n",
              "          2.17057616e-01,  4.64873314e-02, -2.15509534e-03,\n",
              "         -1.09629869e-01, -2.16548741e-02, -9.97596383e-02,\n",
              "          2.72040069e-02],\n",
              "        [ 1.52108669e-01,  1.42562509e-01,  1.49086833e-01,\n",
              "         -1.13635287e-01,  9.28234160e-02, -1.91659480e-02,\n",
              "         -3.19510251e-02, -1.90621018e-01,  8.17855895e-02,\n",
              "          1.57282650e-01],\n",
              "        [ 1.70370340e-02,  2.02822179e-01,  2.40655541e-01,\n",
              "          9.53371525e-02,  8.06258619e-02,  1.05984300e-01,\n",
              "          2.26756275e-01,  2.32973129e-01, -5.27232587e-02,\n",
              "          5.00519574e-02],\n",
              "        [-8.59048367e-02,  2.52191871e-01, -7.62552470e-02,\n",
              "          3.84777188e-02,  1.66623116e-01, -1.76094458e-01,\n",
              "          7.00943768e-02, -6.17014170e-02, -2.45041832e-01,\n",
              "         -2.26139426e-02],\n",
              "        [-2.35793889e-01,  1.93870723e-01, -1.68433845e-01,\n",
              "          1.39227986e-01, -1.18876398e-02,  1.56807929e-01,\n",
              "         -1.87443957e-01, -2.34082773e-01,  2.24983990e-02,\n",
              "          2.27702349e-01],\n",
              "        [ 1.66850120e-01,  1.94979638e-01,  1.30675167e-01,\n",
              "          2.08729208e-01,  1.14577383e-01,  1.30086899e-01,\n",
              "         -2.33709618e-01,  2.37065285e-01,  2.21929371e-01,\n",
              "          1.64011002e-01],\n",
              "        [ 8.18906426e-02,  1.13749743e-01,  1.66612625e-01,\n",
              "          2.07902193e-01, -1.52238220e-01, -1.17995843e-01,\n",
              "          1.78033262e-01, -1.90835387e-01,  1.29024595e-01,\n",
              "          1.14768922e-01],\n",
              "        [-1.22249305e-01, -1.07947290e-02, -2.29014754e-01,\n",
              "         -2.46916413e-02,  1.44664228e-01, -9.92366672e-03,\n",
              "         -2.29480669e-01, -7.85115510e-02,  1.62611902e-01,\n",
              "          2.37284720e-01],\n",
              "        [-1.99771494e-01, -2.26627082e-01, -5.63861728e-02,\n",
              "          7.67768323e-02, -1.80181012e-01, -1.61512196e-01,\n",
              "         -1.80264741e-01, -1.47495061e-01,  1.38790667e-01,\n",
              "         -2.42799923e-01],\n",
              "        [-1.48658991e-01, -1.48192585e-01, -2.07682803e-01,\n",
              "         -5.09529412e-02,  9.92263854e-02,  2.37061828e-01,\n",
              "         -1.24792755e-02, -1.65199324e-01, -1.99317127e-01,\n",
              "         -2.22274706e-01],\n",
              "        [ 7.32812583e-02,  2.24472225e-01, -1.97920695e-01,\n",
              "          2.41319686e-01, -1.69541210e-01, -3.24738622e-02,\n",
              "          1.89178497e-01, -1.71831489e-01, -1.66500404e-01,\n",
              "          1.23238564e-02],\n",
              "        [ 2.64878571e-02,  1.55780375e-01,  1.42589957e-01,\n",
              "         -6.30203784e-02, -2.43552506e-01,  2.39036411e-01,\n",
              "          1.50956422e-01, -1.83033586e-01,  2.14591205e-01,\n",
              "          2.37374574e-01],\n",
              "        [-3.50691080e-02,  2.57778466e-02,  2.03423738e-01,\n",
              "         -6.33397549e-02,  9.27825868e-02,  9.69828963e-02,\n",
              "         -1.49100333e-01, -7.15738684e-02,  1.73434108e-01,\n",
              "         -1.91758126e-02],\n",
              "        [ 2.50151545e-01,  3.91298831e-02, -1.54766425e-01,\n",
              "          1.96527570e-01,  1.53489411e-02,  2.59374380e-02,\n",
              "         -4.64494377e-02, -7.29670525e-02, -1.72891617e-01,\n",
              "          2.50171632e-01],\n",
              "        [ 8.51550996e-02,  7.61452019e-02,  2.47884899e-01,\n",
              "          2.15314627e-01,  1.13880455e-01, -2.34425992e-01,\n",
              "         -1.77186579e-02, -6.32109642e-02,  8.70648026e-02,\n",
              "         -1.69269428e-01],\n",
              "        [ 1.12047136e-01,  2.42808789e-01,  1.95181251e-01,\n",
              "          1.85193688e-01,  1.38261557e-01, -2.07071841e-01,\n",
              "          1.79797709e-02, -9.94913578e-02, -6.76388144e-02,\n",
              "         -2.41010338e-02],\n",
              "        [ 1.58365309e-01, -4.80870605e-02, -1.59090012e-01,\n",
              "          2.20348388e-01, -1.90566435e-01,  1.93394899e-01,\n",
              "         -1.25011772e-01, -6.87909424e-02,  2.06061274e-01,\n",
              "          1.93963170e-01],\n",
              "        [-6.13695085e-02, -1.64055511e-01,  9.64324772e-02,\n",
              "          1.86303228e-01,  1.50686383e-01,  1.91738605e-01,\n",
              "         -1.66383907e-01, -1.85805976e-01,  1.24507606e-01,\n",
              "          2.19588041e-01],\n",
              "        [ 1.19203925e-01, -8.22096914e-02, -1.30543053e-01,\n",
              "         -1.70439020e-01, -8.16337913e-02,  1.92946523e-01,\n",
              "          8.80317390e-02,  1.73117310e-01,  2.07614571e-01,\n",
              "          2.05414414e-01],\n",
              "        [ 8.96050334e-02,  1.56301111e-01, -1.32005215e-01,\n",
              "         -1.40952945e-01,  1.43588662e-01,  3.56754959e-02,\n",
              "         -4.73900884e-02,  2.08655655e-01, -8.84842426e-02,\n",
              "          1.07934564e-01],\n",
              "        [ 3.18636298e-02, -1.61326796e-01,  2.42081434e-01,\n",
              "         -1.97666675e-01,  8.10206532e-02,  1.03739530e-01,\n",
              "          8.48902464e-02,  1.23709828e-01, -1.69794858e-01,\n",
              "          6.75525069e-02],\n",
              "        [-2.11797491e-01, -3.38691026e-02,  9.87809896e-02,\n",
              "         -1.29479498e-01, -8.75707120e-02, -2.07701534e-01,\n",
              "         -7.67571330e-02,  2.40295708e-01,  2.06522197e-01,\n",
              "          1.07996583e-01],\n",
              "        [ 1.64300293e-01, -1.22307375e-01, -6.03770167e-02,\n",
              "          8.49306583e-04, -1.99654579e-01,  3.15013528e-03,\n",
              "         -2.33463496e-01,  1.38153672e-01, -2.35125273e-01,\n",
              "          1.23219043e-01],\n",
              "        [-1.00264236e-01, -4.38231230e-02, -1.60979956e-01,\n",
              "          1.14583045e-01,  2.08029330e-01,  1.87551171e-01,\n",
              "         -1.41204298e-01, -4.35203761e-02,  1.99291110e-01,\n",
              "         -1.21238321e-01],\n",
              "        [-1.72831148e-01,  6.42004609e-02,  1.67062521e-01,\n",
              "         -1.00227728e-01, -1.92990184e-01,  2.06599116e-01,\n",
              "          1.16869032e-01, -1.68392330e-01, -1.21136338e-01,\n",
              "          6.13415539e-02],\n",
              "        [ 1.02367699e-02, -1.59856915e-01,  2.02420175e-01,\n",
              "          2.49803066e-04,  1.75472111e-01,  1.91673428e-01,\n",
              "         -8.55699927e-02, -5.28492779e-02, -7.65203387e-02,\n",
              "          2.98109949e-02],\n",
              "        [-1.86550111e-01,  2.37690210e-02,  4.40270901e-02,\n",
              "          8.73321295e-02,  7.43902326e-02,  1.38682961e-01,\n",
              "          2.38501281e-01,  8.48589838e-02,  1.74096078e-01,\n",
              "         -8.52020085e-02],\n",
              "        [-2.43450895e-01, -1.73066184e-01,  2.49012381e-01,\n",
              "          1.69503927e-01, -6.91259056e-02, -1.30287409e-02,\n",
              "         -1.07537538e-01,  1.49218380e-01,  2.19432682e-01,\n",
              "         -1.79212660e-01],\n",
              "        [ 2.24325597e-01,  1.96342289e-01, -1.22895464e-01,\n",
              "          9.19039845e-02, -1.27925903e-01,  2.24741101e-01,\n",
              "         -2.47103319e-01,  1.94410652e-01,  1.26552343e-01,\n",
              "         -2.16517359e-01],\n",
              "        [ 1.48099452e-01,  9.94217694e-02, -2.06710726e-01,\n",
              "         -2.09931150e-01, -4.55057323e-02, -8.15572292e-02,\n",
              "          1.12545162e-01, -2.37980545e-01, -1.57085001e-01,\n",
              "          1.98684663e-01],\n",
              "        [-1.04341269e-01,  1.84684992e-04,  2.01921999e-01,\n",
              "         -2.63996124e-02, -2.07895681e-01,  1.31514966e-02,\n",
              "          7.05429912e-02, -1.19891882e-01,  1.09991342e-01,\n",
              "         -1.98446676e-01],\n",
              "        [-7.21077323e-02, -4.71354127e-02, -5.06797135e-02,\n",
              "         -2.03824490e-02,  1.54982358e-01,  1.49446249e-01,\n",
              "         -2.32197165e-01,  1.14371836e-01, -2.40701288e-02,\n",
              "         -2.31987193e-01],\n",
              "        [ 1.78419232e-01,  6.57562912e-02, -4.87568974e-03,\n",
              "          3.02499235e-02,  1.88588560e-01, -1.31139159e-02,\n",
              "         -1.55961990e-01, -1.78649634e-01,  2.07068592e-01,\n",
              "          9.39295888e-02],\n",
              "        [ 1.92818344e-02, -6.78860247e-02,  1.67244673e-02,\n",
              "         -1.60214782e-01, -1.03040487e-02, -1.06929824e-01,\n",
              "         -1.28460675e-01,  1.12269402e-01,  2.60100067e-02,\n",
              "         -1.97332799e-01],\n",
              "        [-4.05149907e-02, -5.77963442e-02, -1.23407513e-01,\n",
              "         -1.41749918e-01,  5.14641702e-02,  2.38637179e-01,\n",
              "         -1.85590267e-01,  1.35261536e-01,  1.96914047e-01,\n",
              "         -1.47693649e-01],\n",
              "        [-1.94379643e-01, -1.88505501e-02,  1.08607978e-01,\n",
              "          6.86649382e-02, -1.46332934e-01, -1.53513283e-01,\n",
              "          1.99019015e-02,  1.53957903e-01, -1.58187509e-01,\n",
              "         -1.54559344e-01],\n",
              "        [-2.11596668e-01,  5.15522957e-02,  1.66711599e-01,\n",
              "         -2.52494633e-01,  3.57508659e-04,  1.28870159e-01,\n",
              "         -2.02827007e-02, -1.66755617e-01, -2.50665098e-01,\n",
              "          1.26488805e-01],\n",
              "        [ 9.58398879e-02, -4.13295627e-02,  1.85614049e-01,\n",
              "         -5.01237512e-02,  1.66770369e-01, -1.47350371e-01,\n",
              "         -2.57070214e-02, -1.60556257e-01, -3.40905935e-02,\n",
              "         -8.07212144e-02]], dtype=float32),\n",
              " array([0., 0., 0., 0., 0., 0., 0., 0., 0., 0.], dtype=float32)]"
            ]
          },
          "metadata": {},
          "execution_count": 44
        }
      ]
    },
    {
      "cell_type": "code",
      "source": [
        "model.save_weights('./weights')"
      ],
      "metadata": {
        "id": "ctqQpjloBMJM"
      },
      "execution_count": null,
      "outputs": []
    },
    {
      "cell_type": "code",
      "source": [
        "for layer in model.layers:\n",
        "    print(layer)\n",
        "    weights, bias = layer.get_weights()# list of numpy array\n",
        "    break"
      ],
      "metadata": {
        "colab": {
          "base_uri": "https://localhost:8080/"
        },
        "id": "xJzl4vTHCMuM",
        "outputId": "6066b44d-7c1d-477d-9aad-19046fab4cb3"
      },
      "execution_count": 55,
      "outputs": [
        {
          "output_type": "stream",
          "name": "stdout",
          "text": [
            "<keras.layers.convolutional.conv2d.Conv2D object at 0x7f14d6a1a4c0>\n"
          ]
        }
      ]
    },
    {
      "cell_type": "code",
      "source": [
        "print(weights[0])"
      ],
      "metadata": {
        "colab": {
          "base_uri": "https://localhost:8080/"
        },
        "id": "3M3-Lt0iyBCq",
        "outputId": "5d318351-ccba-49e7-e8c8-927c1a8df82a"
      },
      "execution_count": 58,
      "outputs": [
        {
          "output_type": "stream",
          "name": "stdout",
          "text": [
            "[[[-0.07393751 -0.1003239  -0.10044707 -0.02775648  0.08857577\n",
            "   -0.0075167 ]]\n",
            "\n",
            " [[ 0.09176524 -0.15814638 -0.08382069 -0.00443849 -0.0958851\n",
            "    0.17811276]]\n",
            "\n",
            " [[-0.04193091 -0.04094522  0.10679568  0.09883957 -0.0413183\n",
            "   -0.05223468]]\n",
            "\n",
            " [[ 0.00444852 -0.12267441  0.12557454  0.13173766  0.01341221\n",
            "    0.04144323]]\n",
            "\n",
            " [[ 0.07429744  0.03002843  0.11414485 -0.10617619 -0.08956058\n",
            "   -0.13993302]]]\n"
          ]
        }
      ]
    },
    {
      "cell_type": "code",
      "source": [
        "print(bias)"
      ],
      "metadata": {
        "colab": {
          "base_uri": "https://localhost:8080/"
        },
        "id": "yVNtv_26yUy5",
        "outputId": "f5e96607-9845-4448-cf7b-ce17e99379f2"
      },
      "execution_count": 57,
      "outputs": [
        {
          "output_type": "stream",
          "name": "stdout",
          "text": [
            "[0. 0. 0. 0. 0. 0.]\n"
          ]
        }
      ]
    },
    {
      "cell_type": "code",
      "source": [],
      "metadata": {
        "colab": {
          "base_uri": "https://localhost:8080/"
        },
        "id": "SkxtgXxDyY5E",
        "outputId": "52389e45-0c43-4af9-b962-f446b3a311b5"
      },
      "execution_count": 61,
      "outputs": [
        {
          "output_type": "execute_result",
          "data": {
            "text/plain": [
              "array([-0.07393751, -0.1003239 , -0.10044707, -0.02775648,  0.08857577,\n",
              "       -0.0075167 ,  0.09176524, -0.15814638, -0.08382069, -0.00443849,\n",
              "       -0.0958851 ,  0.17811276, -0.04193091, -0.04094522,  0.10679568,\n",
              "        0.09883957, -0.0413183 , -0.05223468,  0.00444852, -0.12267441,\n",
              "        0.12557454,  0.13173766,  0.01341221,  0.04144323,  0.07429744,\n",
              "        0.03002843,  0.11414485, -0.10617619, -0.08956058, -0.13993302,\n",
              "        0.04220538,  0.1137109 ,  0.08445613, -0.14499839, -0.08394182,\n",
              "       -0.14690636, -0.18288562,  0.04005474,  0.09920447, -0.10603262,\n",
              "        0.17498545, -0.09387828, -0.02982637,  0.0632997 ,  0.17465974,\n",
              "        0.16480567, -0.09158257,  0.134697  , -0.02902225,  0.12111323,\n",
              "        0.1179186 ,  0.03151533, -0.11960645, -0.10715827,  0.03261538,\n",
              "       -0.10911366, -0.15579152, -0.17369308,  0.00077446, -0.09869176,\n",
              "       -0.1712893 , -0.0157544 ,  0.10728855, -0.0726755 ,  0.08337025,\n",
              "        0.00834057, -0.0050776 ,  0.1324011 ,  0.17993854, -0.05782777,\n",
              "        0.12473871,  0.11474936, -0.02708404,  0.03249578, -0.08734844,\n",
              "        0.12505136, -0.09471442,  0.07889538,  0.02406539,  0.14950086,\n",
              "       -0.09349209, -0.17898624, -0.00993942, -0.07612188,  0.09157743,\n",
              "        0.08662973, -0.11889057, -0.06519433,  0.08542956, -0.07461423,\n",
              "        0.04687029, -0.14140534, -0.18441467, -0.05941065,  0.10513212,\n",
              "        0.06318028,  0.05341056, -0.04000343, -0.10390286,  0.09215154,\n",
              "        0.03664945, -0.09411486, -0.04072307,  0.18284155, -0.17512752,\n",
              "        0.18187572, -0.15849245, -0.10125544,  0.01314251, -0.1388298 ,\n",
              "       -0.16981396,  0.17364044,  0.07626577,  0.06460746,  0.16428496,\n",
              "        0.08948676, -0.17090636, -0.01262718, -0.14169335,  0.09382628,\n",
              "        0.02933891,  0.11065833,  0.07623325,  0.01935588,  0.03279933,\n",
              "       -0.04385889,  0.18449466, -0.00759396,  0.01852296,  0.14205806,\n",
              "        0.04473335, -0.17825249,  0.04612051,  0.16609563, -0.11326052,\n",
              "        0.01407494,  0.13524447, -0.01243529,  0.16867216,  0.17117791,\n",
              "       -0.11735674,  0.01838978, -0.11037868,  0.10132863,  0.11946632,\n",
              "       -0.16814655,  0.10908861, -0.04455137, -0.01092239,  0.14506577],\n",
              "      dtype=float32)"
            ]
          },
          "metadata": {},
          "execution_count": 61
        }
      ]
    },
    {
      "cell_type": "markdown",
      "source": [
        "# New Section"
      ],
      "metadata": {
        "id": "VtqC1d1K_a06"
      }
    }
  ]
}